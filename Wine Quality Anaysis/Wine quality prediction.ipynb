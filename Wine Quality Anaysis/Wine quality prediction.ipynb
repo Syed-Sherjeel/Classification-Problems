{
 "cells": [
  {
   "cell_type": "markdown",
   "metadata": {},
   "source": [
    "# Red wine quality a polynomial regression approach"
   ]
  },
  {
   "cell_type": "markdown",
   "metadata": {},
   "source": [
    "## Introduction"
   ]
  },
  {
   "cell_type": "markdown",
   "metadata": {},
   "source": [
    "Red wine is a type of wine made from dark-colored grape varieties. The actual color of the wine can range from intense violet, typical of young wines, through to brick red for mature wines and brown for older red wines.In this project we are going to explore quality of with respect to amount of different content.We will also discover how much quality of red wine depends upon these contents.Lastly we will model a relationship between these quantities and quality of red wine"
   ]
  },
  {
   "cell_type": "markdown",
   "metadata": {},
   "source": [
    "![](data:image/jpeg;base64,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)"
   ]
  },
  {
   "cell_type": "markdown",
   "metadata": {},
   "source": [
    "# Libraries"
   ]
  },
  {
   "cell_type": "markdown",
   "metadata": {},
   "source": [
    "We will be needing following libraries, \n",
    "- Scikitlearn\n",
    "- pandas\n",
    "- matplotlib\n",
    "\n",
    "## Scikitlearn: \n",
    "Now the relationship between quality of wine and different content inside the wine can be modeled using a statistical technique known as Regression.Here we will use its variant known as polynomial regression as tool for modelling the relationship between redwine and various contents that are used in production of redwine.\n",
    "## Pandas: \n",
    "Pandas is an amazing data handling and data wrangling tool that makes our job a lot easier and efficent compared to normal file opeing using trivial open code.Pandas come with several builtin function that allow exploratory data analysis and preprocessing a lot easier."
   ]
  },
  {
   "cell_type": "markdown",
   "metadata": {},
   "source": [
    "### Importing libraries"
   ]
  },
  {
   "cell_type": "code",
   "execution_count": 4,
   "metadata": {},
   "outputs": [],
   "source": [
    "import matplotlib.pyplot as plt\n",
    "import numpy as np\n",
    "import pandas as pd\n",
    "from sklearn.svm import SVC\n",
    "from sklearn.preprocessing import PolynomialFeatures,StandardScaler\n",
    "from sklearn.model_selection import train_test_split\n",
    "from sklearn.metrics import accuracy_score,precision_score,recall_score"
   ]
  },
  {
   "cell_type": "markdown",
   "metadata": {},
   "source": [
    "### Exploratory data analysis and Preprocessing"
   ]
  },
  {
   "cell_type": "code",
   "execution_count": 5,
   "metadata": {},
   "outputs": [
    {
     "data": {
      "text/html": [
       "<div>\n",
       "<style scoped>\n",
       "    .dataframe tbody tr th:only-of-type {\n",
       "        vertical-align: middle;\n",
       "    }\n",
       "\n",
       "    .dataframe tbody tr th {\n",
       "        vertical-align: top;\n",
       "    }\n",
       "\n",
       "    .dataframe thead th {\n",
       "        text-align: right;\n",
       "    }\n",
       "</style>\n",
       "<table border=\"1\" class=\"dataframe\">\n",
       "  <thead>\n",
       "    <tr style=\"text-align: right;\">\n",
       "      <th></th>\n",
       "      <th>fixed acidity</th>\n",
       "      <th>volatile acidity</th>\n",
       "      <th>citric acid</th>\n",
       "      <th>residual sugar</th>\n",
       "      <th>chlorides</th>\n",
       "      <th>free sulfur dioxide</th>\n",
       "      <th>total sulfur dioxide</th>\n",
       "      <th>density</th>\n",
       "      <th>pH</th>\n",
       "      <th>sulphates</th>\n",
       "      <th>alcohol</th>\n",
       "      <th>quality</th>\n",
       "    </tr>\n",
       "  </thead>\n",
       "  <tbody>\n",
       "    <tr>\n",
       "      <th>0</th>\n",
       "      <td>7.4</td>\n",
       "      <td>0.70</td>\n",
       "      <td>0.00</td>\n",
       "      <td>1.9</td>\n",
       "      <td>0.076</td>\n",
       "      <td>11.0</td>\n",
       "      <td>34.0</td>\n",
       "      <td>0.9978</td>\n",
       "      <td>3.51</td>\n",
       "      <td>0.56</td>\n",
       "      <td>9.4</td>\n",
       "      <td>5</td>\n",
       "    </tr>\n",
       "    <tr>\n",
       "      <th>1</th>\n",
       "      <td>7.8</td>\n",
       "      <td>0.88</td>\n",
       "      <td>0.00</td>\n",
       "      <td>2.6</td>\n",
       "      <td>0.098</td>\n",
       "      <td>25.0</td>\n",
       "      <td>67.0</td>\n",
       "      <td>0.9968</td>\n",
       "      <td>3.20</td>\n",
       "      <td>0.68</td>\n",
       "      <td>9.8</td>\n",
       "      <td>5</td>\n",
       "    </tr>\n",
       "    <tr>\n",
       "      <th>2</th>\n",
       "      <td>7.8</td>\n",
       "      <td>0.76</td>\n",
       "      <td>0.04</td>\n",
       "      <td>2.3</td>\n",
       "      <td>0.092</td>\n",
       "      <td>15.0</td>\n",
       "      <td>54.0</td>\n",
       "      <td>0.9970</td>\n",
       "      <td>3.26</td>\n",
       "      <td>0.65</td>\n",
       "      <td>9.8</td>\n",
       "      <td>5</td>\n",
       "    </tr>\n",
       "    <tr>\n",
       "      <th>3</th>\n",
       "      <td>11.2</td>\n",
       "      <td>0.28</td>\n",
       "      <td>0.56</td>\n",
       "      <td>1.9</td>\n",
       "      <td>0.075</td>\n",
       "      <td>17.0</td>\n",
       "      <td>60.0</td>\n",
       "      <td>0.9980</td>\n",
       "      <td>3.16</td>\n",
       "      <td>0.58</td>\n",
       "      <td>9.8</td>\n",
       "      <td>6</td>\n",
       "    </tr>\n",
       "    <tr>\n",
       "      <th>4</th>\n",
       "      <td>7.4</td>\n",
       "      <td>0.70</td>\n",
       "      <td>0.00</td>\n",
       "      <td>1.9</td>\n",
       "      <td>0.076</td>\n",
       "      <td>11.0</td>\n",
       "      <td>34.0</td>\n",
       "      <td>0.9978</td>\n",
       "      <td>3.51</td>\n",
       "      <td>0.56</td>\n",
       "      <td>9.4</td>\n",
       "      <td>5</td>\n",
       "    </tr>\n",
       "  </tbody>\n",
       "</table>\n",
       "</div>"
      ],
      "text/plain": [
       "   fixed acidity  volatile acidity  citric acid  residual sugar  chlorides  \\\n",
       "0            7.4              0.70         0.00             1.9      0.076   \n",
       "1            7.8              0.88         0.00             2.6      0.098   \n",
       "2            7.8              0.76         0.04             2.3      0.092   \n",
       "3           11.2              0.28         0.56             1.9      0.075   \n",
       "4            7.4              0.70         0.00             1.9      0.076   \n",
       "\n",
       "   free sulfur dioxide  total sulfur dioxide  density    pH  sulphates  \\\n",
       "0                 11.0                  34.0   0.9978  3.51       0.56   \n",
       "1                 25.0                  67.0   0.9968  3.20       0.68   \n",
       "2                 15.0                  54.0   0.9970  3.26       0.65   \n",
       "3                 17.0                  60.0   0.9980  3.16       0.58   \n",
       "4                 11.0                  34.0   0.9978  3.51       0.56   \n",
       "\n",
       "   alcohol  quality  \n",
       "0      9.4        5  \n",
       "1      9.8        5  \n",
       "2      9.8        5  \n",
       "3      9.8        6  \n",
       "4      9.4        5  "
      ]
     },
     "execution_count": 5,
     "metadata": {},
     "output_type": "execute_result"
    }
   ],
   "source": [
    "data_set=pd.read_csv('winequality-red.csv',delimiter=';')\n",
    "data_set.head()\n",
    "#X,y,X_test,y_test=train_test_split()"
   ]
  },
  {
   "cell_type": "code",
   "execution_count": 6,
   "metadata": {},
   "outputs": [
    {
     "data": {
      "text/html": [
       "<div>\n",
       "<style scoped>\n",
       "    .dataframe tbody tr th:only-of-type {\n",
       "        vertical-align: middle;\n",
       "    }\n",
       "\n",
       "    .dataframe tbody tr th {\n",
       "        vertical-align: top;\n",
       "    }\n",
       "\n",
       "    .dataframe thead th {\n",
       "        text-align: right;\n",
       "    }\n",
       "</style>\n",
       "<table border=\"1\" class=\"dataframe\">\n",
       "  <thead>\n",
       "    <tr style=\"text-align: right;\">\n",
       "      <th></th>\n",
       "      <th>fixed acidity</th>\n",
       "      <th>volatile acidity</th>\n",
       "      <th>citric acid</th>\n",
       "      <th>residual sugar</th>\n",
       "      <th>chlorides</th>\n",
       "      <th>free sulfur dioxide</th>\n",
       "      <th>total sulfur dioxide</th>\n",
       "      <th>density</th>\n",
       "      <th>pH</th>\n",
       "      <th>sulphates</th>\n",
       "      <th>alcohol</th>\n",
       "      <th>quality</th>\n",
       "    </tr>\n",
       "  </thead>\n",
       "  <tbody>\n",
       "    <tr>\n",
       "      <th>0</th>\n",
       "      <td>7.4</td>\n",
       "      <td>0.700</td>\n",
       "      <td>0.00</td>\n",
       "      <td>1.9</td>\n",
       "      <td>0.076</td>\n",
       "      <td>11.0</td>\n",
       "      <td>34.0</td>\n",
       "      <td>0.99780</td>\n",
       "      <td>3.51</td>\n",
       "      <td>0.56</td>\n",
       "      <td>9.4</td>\n",
       "      <td>5</td>\n",
       "    </tr>\n",
       "    <tr>\n",
       "      <th>1</th>\n",
       "      <td>7.8</td>\n",
       "      <td>0.880</td>\n",
       "      <td>0.00</td>\n",
       "      <td>2.6</td>\n",
       "      <td>0.098</td>\n",
       "      <td>25.0</td>\n",
       "      <td>67.0</td>\n",
       "      <td>0.99680</td>\n",
       "      <td>3.20</td>\n",
       "      <td>0.68</td>\n",
       "      <td>9.8</td>\n",
       "      <td>5</td>\n",
       "    </tr>\n",
       "    <tr>\n",
       "      <th>2</th>\n",
       "      <td>7.8</td>\n",
       "      <td>0.760</td>\n",
       "      <td>0.04</td>\n",
       "      <td>2.3</td>\n",
       "      <td>0.092</td>\n",
       "      <td>15.0</td>\n",
       "      <td>54.0</td>\n",
       "      <td>0.99700</td>\n",
       "      <td>3.26</td>\n",
       "      <td>0.65</td>\n",
       "      <td>9.8</td>\n",
       "      <td>5</td>\n",
       "    </tr>\n",
       "    <tr>\n",
       "      <th>3</th>\n",
       "      <td>11.2</td>\n",
       "      <td>0.280</td>\n",
       "      <td>0.56</td>\n",
       "      <td>1.9</td>\n",
       "      <td>0.075</td>\n",
       "      <td>17.0</td>\n",
       "      <td>60.0</td>\n",
       "      <td>0.99800</td>\n",
       "      <td>3.16</td>\n",
       "      <td>0.58</td>\n",
       "      <td>9.8</td>\n",
       "      <td>6</td>\n",
       "    </tr>\n",
       "    <tr>\n",
       "      <th>4</th>\n",
       "      <td>7.4</td>\n",
       "      <td>0.700</td>\n",
       "      <td>0.00</td>\n",
       "      <td>1.9</td>\n",
       "      <td>0.076</td>\n",
       "      <td>11.0</td>\n",
       "      <td>34.0</td>\n",
       "      <td>0.99780</td>\n",
       "      <td>3.51</td>\n",
       "      <td>0.56</td>\n",
       "      <td>9.4</td>\n",
       "      <td>5</td>\n",
       "    </tr>\n",
       "    <tr>\n",
       "      <th>...</th>\n",
       "      <td>...</td>\n",
       "      <td>...</td>\n",
       "      <td>...</td>\n",
       "      <td>...</td>\n",
       "      <td>...</td>\n",
       "      <td>...</td>\n",
       "      <td>...</td>\n",
       "      <td>...</td>\n",
       "      <td>...</td>\n",
       "      <td>...</td>\n",
       "      <td>...</td>\n",
       "      <td>...</td>\n",
       "    </tr>\n",
       "    <tr>\n",
       "      <th>1594</th>\n",
       "      <td>6.2</td>\n",
       "      <td>0.600</td>\n",
       "      <td>0.08</td>\n",
       "      <td>2.0</td>\n",
       "      <td>0.090</td>\n",
       "      <td>32.0</td>\n",
       "      <td>44.0</td>\n",
       "      <td>0.99490</td>\n",
       "      <td>3.45</td>\n",
       "      <td>0.58</td>\n",
       "      <td>10.5</td>\n",
       "      <td>5</td>\n",
       "    </tr>\n",
       "    <tr>\n",
       "      <th>1595</th>\n",
       "      <td>5.9</td>\n",
       "      <td>0.550</td>\n",
       "      <td>0.10</td>\n",
       "      <td>2.2</td>\n",
       "      <td>0.062</td>\n",
       "      <td>39.0</td>\n",
       "      <td>51.0</td>\n",
       "      <td>0.99512</td>\n",
       "      <td>3.52</td>\n",
       "      <td>0.76</td>\n",
       "      <td>11.2</td>\n",
       "      <td>6</td>\n",
       "    </tr>\n",
       "    <tr>\n",
       "      <th>1596</th>\n",
       "      <td>6.3</td>\n",
       "      <td>0.510</td>\n",
       "      <td>0.13</td>\n",
       "      <td>2.3</td>\n",
       "      <td>0.076</td>\n",
       "      <td>29.0</td>\n",
       "      <td>40.0</td>\n",
       "      <td>0.99574</td>\n",
       "      <td>3.42</td>\n",
       "      <td>0.75</td>\n",
       "      <td>11.0</td>\n",
       "      <td>6</td>\n",
       "    </tr>\n",
       "    <tr>\n",
       "      <th>1597</th>\n",
       "      <td>5.9</td>\n",
       "      <td>0.645</td>\n",
       "      <td>0.12</td>\n",
       "      <td>2.0</td>\n",
       "      <td>0.075</td>\n",
       "      <td>32.0</td>\n",
       "      <td>44.0</td>\n",
       "      <td>0.99547</td>\n",
       "      <td>3.57</td>\n",
       "      <td>0.71</td>\n",
       "      <td>10.2</td>\n",
       "      <td>5</td>\n",
       "    </tr>\n",
       "    <tr>\n",
       "      <th>1598</th>\n",
       "      <td>6.0</td>\n",
       "      <td>0.310</td>\n",
       "      <td>0.47</td>\n",
       "      <td>3.6</td>\n",
       "      <td>0.067</td>\n",
       "      <td>18.0</td>\n",
       "      <td>42.0</td>\n",
       "      <td>0.99549</td>\n",
       "      <td>3.39</td>\n",
       "      <td>0.66</td>\n",
       "      <td>11.0</td>\n",
       "      <td>6</td>\n",
       "    </tr>\n",
       "  </tbody>\n",
       "</table>\n",
       "<p>1599 rows × 12 columns</p>\n",
       "</div>"
      ],
      "text/plain": [
       "      fixed acidity  volatile acidity  citric acid  residual sugar  chlorides  \\\n",
       "0               7.4             0.700         0.00             1.9      0.076   \n",
       "1               7.8             0.880         0.00             2.6      0.098   \n",
       "2               7.8             0.760         0.04             2.3      0.092   \n",
       "3              11.2             0.280         0.56             1.9      0.075   \n",
       "4               7.4             0.700         0.00             1.9      0.076   \n",
       "...             ...               ...          ...             ...        ...   \n",
       "1594            6.2             0.600         0.08             2.0      0.090   \n",
       "1595            5.9             0.550         0.10             2.2      0.062   \n",
       "1596            6.3             0.510         0.13             2.3      0.076   \n",
       "1597            5.9             0.645         0.12             2.0      0.075   \n",
       "1598            6.0             0.310         0.47             3.6      0.067   \n",
       "\n",
       "      free sulfur dioxide  total sulfur dioxide  density    pH  sulphates  \\\n",
       "0                    11.0                  34.0  0.99780  3.51       0.56   \n",
       "1                    25.0                  67.0  0.99680  3.20       0.68   \n",
       "2                    15.0                  54.0  0.99700  3.26       0.65   \n",
       "3                    17.0                  60.0  0.99800  3.16       0.58   \n",
       "4                    11.0                  34.0  0.99780  3.51       0.56   \n",
       "...                   ...                   ...      ...   ...        ...   \n",
       "1594                 32.0                  44.0  0.99490  3.45       0.58   \n",
       "1595                 39.0                  51.0  0.99512  3.52       0.76   \n",
       "1596                 29.0                  40.0  0.99574  3.42       0.75   \n",
       "1597                 32.0                  44.0  0.99547  3.57       0.71   \n",
       "1598                 18.0                  42.0  0.99549  3.39       0.66   \n",
       "\n",
       "      alcohol  quality  \n",
       "0         9.4        5  \n",
       "1         9.8        5  \n",
       "2         9.8        5  \n",
       "3         9.8        6  \n",
       "4         9.4        5  \n",
       "...       ...      ...  \n",
       "1594     10.5        5  \n",
       "1595     11.2        6  \n",
       "1596     11.0        6  \n",
       "1597     10.2        5  \n",
       "1598     11.0        6  \n",
       "\n",
       "[1599 rows x 12 columns]"
      ]
     },
     "execution_count": 6,
     "metadata": {},
     "output_type": "execute_result"
    }
   ],
   "source": [
    "# Checking for null values\n",
    "data_set.isnull()\n",
    "#dropping null values \n",
    "data_set.dropna()\n",
    "#forward filling null values\n",
    "data_set.fillna(method='ffill')"
   ]
  },
  {
   "cell_type": "code",
   "execution_count": 7,
   "metadata": {},
   "outputs": [
    {
     "data": {
      "text/plain": [
       "(array([638.,   0.,   0.,   0.,   0., 199.,   0.,   0.,   0.,  18.]),\n",
       " array([6. , 6.2, 6.4, 6.6, 6.8, 7. , 7.2, 7.4, 7.6, 7.8, 8. ]),\n",
       " <a list of 10 Patch objects>)"
      ]
     },
     "execution_count": 7,
     "metadata": {},
     "output_type": "execute_result"
    },
    {
     "data": {
      "image/png": "[encoded data removed]",
      "text/plain": [
       "<Figure size 432x288 with 1 Axes>"
      ]
     },
     "metadata": {
      "needs_background": "light"
     },
     "output_type": "display_data"
    }
   ],
   "source": [
    "#checking average quality of wine in data\n",
    "#checking the distribution of this data\n",
    "plt.hist(data_set[data_set['quality']>data_set['quality'].mean()].quality.values)"
   ]
  },
  {
   "cell_type": "code",
   "execution_count": 8,
   "metadata": {},
   "outputs": [
    {
     "data": {
      "text/plain": [
       "(array([ 10.,   0.,   0.,   0.,   0.,  53.,   0.,   0.,   0., 681.]),\n",
       " array([3. , 3.2, 3.4, 3.6, 3.8, 4. , 4.2, 4.4, 4.6, 4.8, 5. ]),\n",
       " <a list of 10 Patch objects>)"
      ]
     },
     "execution_count": 8,
     "metadata": {},
     "output_type": "execute_result"
    },
    {
     "data": {
      "image/png": "[encoded data removed]",
      "text/plain": [
       "<Figure size 432x288 with 1 Axes>"
      ]
     },
     "metadata": {
      "needs_background": "light"
     },
     "output_type": "display_data"
    }
   ],
   "source": [
    "# checking lowest quality wines in our data set\n",
    "#checking distribution of this data\n",
    "plt.hist(data_set[data_set['quality']<data_set['quality'].mean()].quality.values)"
   ]
  },
  {
   "cell_type": "code",
   "execution_count": 9,
   "metadata": {},
   "outputs": [
    {
     "data": {
      "text/plain": [
       "(array([ 10.,   0.,  53.,   0., 681.,   0., 638.,   0., 199.,  18.]),\n",
       " array([3. , 3.5, 4. , 4.5, 5. , 5.5, 6. , 6.5, 7. , 7.5, 8. ]),\n",
       " <a list of 10 Patch objects>)"
      ]
     },
     "execution_count": 9,
     "metadata": {},
     "output_type": "execute_result"
    },
    {
     "data": {
      "image/png": "[encoded data removed]",
      "text/plain": [
       "<Figure size 432x288 with 1 Axes>"
      ]
     },
     "metadata": {
      "needs_background": "light"
     },
     "output_type": "display_data"
    }
   ],
   "source": [
    "#checking distribution of qulaity of wines\n",
    "plt.hist(data_set.quality.values)"
   ]
  },
  {
   "cell_type": "markdown",
   "metadata": {},
   "source": [
    "## Distribution"
   ]
  },
  {
   "cell_type": "markdown",
   "metadata": {},
   "source": [
    "It appears that our data is quiet uniformly distributed.It follows normal distribution and apparantly 5 is average of quality from given data set."
   ]
  },
  {
   "cell_type": "markdown",
   "metadata": {},
   "source": [
    "## Splitting data set"
   ]
  },
  {
   "cell_type": "code",
   "execution_count": 10,
   "metadata": {},
   "outputs": [
    {
     "data": {
      "text/html": [
       "<div>\n",
       "<style scoped>\n",
       "    .dataframe tbody tr th:only-of-type {\n",
       "        vertical-align: middle;\n",
       "    }\n",
       "\n",
       "    .dataframe tbody tr th {\n",
       "        vertical-align: top;\n",
       "    }\n",
       "\n",
       "    .dataframe thead th {\n",
       "        text-align: right;\n",
       "    }\n",
       "</style>\n",
       "<table border=\"1\" class=\"dataframe\">\n",
       "  <thead>\n",
       "    <tr style=\"text-align: right;\">\n",
       "      <th></th>\n",
       "      <th>fixed acidity</th>\n",
       "      <th>volatile acidity</th>\n",
       "      <th>citric acid</th>\n",
       "      <th>residual sugar</th>\n",
       "      <th>chlorides</th>\n",
       "      <th>free sulfur dioxide</th>\n",
       "      <th>total sulfur dioxide</th>\n",
       "      <th>density</th>\n",
       "      <th>pH</th>\n",
       "      <th>sulphates</th>\n",
       "      <th>alcohol</th>\n",
       "    </tr>\n",
       "  </thead>\n",
       "  <tbody>\n",
       "    <tr>\n",
       "      <th>1316</th>\n",
       "      <td>5.4</td>\n",
       "      <td>0.740</td>\n",
       "      <td>0.00</td>\n",
       "      <td>1.2</td>\n",
       "      <td>0.041</td>\n",
       "      <td>16.0</td>\n",
       "      <td>46.0</td>\n",
       "      <td>0.99258</td>\n",
       "      <td>4.01</td>\n",
       "      <td>0.59</td>\n",
       "      <td>12.5</td>\n",
       "    </tr>\n",
       "    <tr>\n",
       "      <th>1199</th>\n",
       "      <td>7.9</td>\n",
       "      <td>0.580</td>\n",
       "      <td>0.23</td>\n",
       "      <td>2.3</td>\n",
       "      <td>0.076</td>\n",
       "      <td>23.0</td>\n",
       "      <td>94.0</td>\n",
       "      <td>0.99686</td>\n",
       "      <td>3.21</td>\n",
       "      <td>0.58</td>\n",
       "      <td>9.5</td>\n",
       "    </tr>\n",
       "    <tr>\n",
       "      <th>153</th>\n",
       "      <td>7.5</td>\n",
       "      <td>0.600</td>\n",
       "      <td>0.03</td>\n",
       "      <td>1.8</td>\n",
       "      <td>0.095</td>\n",
       "      <td>25.0</td>\n",
       "      <td>99.0</td>\n",
       "      <td>0.99500</td>\n",
       "      <td>3.35</td>\n",
       "      <td>0.54</td>\n",
       "      <td>10.1</td>\n",
       "    </tr>\n",
       "    <tr>\n",
       "      <th>1485</th>\n",
       "      <td>7.0</td>\n",
       "      <td>0.655</td>\n",
       "      <td>0.16</td>\n",
       "      <td>2.1</td>\n",
       "      <td>0.074</td>\n",
       "      <td>8.0</td>\n",
       "      <td>25.0</td>\n",
       "      <td>0.99606</td>\n",
       "      <td>3.37</td>\n",
       "      <td>0.55</td>\n",
       "      <td>9.7</td>\n",
       "    </tr>\n",
       "    <tr>\n",
       "      <th>368</th>\n",
       "      <td>10.3</td>\n",
       "      <td>0.340</td>\n",
       "      <td>0.52</td>\n",
       "      <td>2.8</td>\n",
       "      <td>0.159</td>\n",
       "      <td>15.0</td>\n",
       "      <td>75.0</td>\n",
       "      <td>0.99980</td>\n",
       "      <td>3.18</td>\n",
       "      <td>0.64</td>\n",
       "      <td>9.4</td>\n",
       "    </tr>\n",
       "  </tbody>\n",
       "</table>\n",
       "</div>"
      ],
      "text/plain": [
       "      fixed acidity  volatile acidity  citric acid  residual sugar  chlorides  \\\n",
       "1316            5.4             0.740         0.00             1.2      0.041   \n",
       "1199            7.9             0.580         0.23             2.3      0.076   \n",
       "153             7.5             0.600         0.03             1.8      0.095   \n",
       "1485            7.0             0.655         0.16             2.1      0.074   \n",
       "368            10.3             0.340         0.52             2.8      0.159   \n",
       "\n",
       "      free sulfur dioxide  total sulfur dioxide  density    pH  sulphates  \\\n",
       "1316                 16.0                  46.0  0.99258  4.01       0.59   \n",
       "1199                 23.0                  94.0  0.99686  3.21       0.58   \n",
       "153                  25.0                  99.0  0.99500  3.35       0.54   \n",
       "1485                  8.0                  25.0  0.99606  3.37       0.55   \n",
       "368                  15.0                  75.0  0.99980  3.18       0.64   \n",
       "\n",
       "      alcohol  \n",
       "1316     12.5  \n",
       "1199      9.5  \n",
       "153      10.1  \n",
       "1485      9.7  \n",
       "368       9.4  "
      ]
     },
     "execution_count": 10,
     "metadata": {},
     "output_type": "execute_result"
    }
   ],
   "source": [
    "#First split explanatory variable and Output variable\n",
    "y = data_set[['quality']]\n",
    "# All the input parameters used to predict the value are represented as y.\n",
    "X =data_set[['fixed acidity','volatile acidity','citric acid','residual sugar','chlorides','free sulfur dioxide','total sulfur dioxide','density','pH','sulphates','alcohol']]\n",
    "#X=data_set.iloc[:,:-1]\n",
    "#y=data_set.iloc[:,-1:]\n",
    "X_train,X_test,y_train,y_test=train_test_split(X,y,test_size=.2)\n",
    "X_test.head()"
   ]
  },
  {
   "cell_type": "markdown",
   "metadata": {},
   "source": [
    "## Feature Scaling"
   ]
  },
  {
   "cell_type": "code",
   "execution_count": 11,
   "metadata": {},
   "outputs": [
    {
     "data": {
      "text/plain": [
       "StandardScaler(copy=True, with_mean=True, with_std=True)"
      ]
     },
     "execution_count": 11,
     "metadata": {},
     "output_type": "execute_result"
    }
   ],
   "source": [
    "scale=StandardScaler()\n",
    "scale.fit_transform(X_train)\n",
    "scale.fit_transform(y_train)\n",
    "scale.fit_transform(X_test)\n",
    "scale.fit_transform(y_test)"
   ]
  },
  {
   "cell_type": "markdown",
   "metadata": {},
   "source": [
    "## Polynomial Features"
   ]
  },
  {
   "cell_type": "code",
   "execution_count": null,
   "metadata": {},
   "outputs": [],
   "source": [
    "features=PolynomialFeatures(degree=3)\n",
    "features.fit_transform()"
   ]
  },
  {
   "cell_type": "markdown",
   "metadata": {},
   "source": [
    "## Setting degree of polynomial"
   ]
  },
  {
   "cell_type": "code",
   "execution_count": 12,
   "metadata": {},
   "outputs": [],
   "source": [
    "Model=SVC(kernel='poly',degree=3,C=.2,gamma=1.1)"
   ]
  },
  {
   "cell_type": "markdown",
   "metadata": {},
   "source": [
    "# Fitting model"
   ]
  },
  {
   "cell_type": "code",
   "execution_count": null,
   "metadata": {},
   "outputs": [
    {
     "name": "stderr",
     "output_type": "stream",
     "text": [
      "/home/rufus/anaconda3/lib/python3.7/site-packages/sklearn/utils/validation.py:760: DataConversionWarning: A column-vector y was passed when a 1d array was expected. Please change the shape of y to (n_samples, ), for example using ravel().\n",
      "  y = column_or_1d(y, warn=True)\n"
     ]
    }
   ],
   "source": [
    "Model.fit(X_train,y_train)"
   ]
  },
  {
   "cell_type": "markdown",
   "metadata": {},
   "source": [
    "# Training set error"
   ]
  },
  {
   "cell_type": "code",
   "execution_count": null,
   "metadata": {},
   "outputs": [],
   "source": [
    "y_predict=Model.predict(X_train)\n",
    "predicted_data = np.round_(y_predict)\n",
    "print(accuracy_score(y_train,predicted_data))\n",
    "print(precision_score(y_train,predicted_data))\n",
    "print(recall_score(y_train,predicted_data))"
   ]
  },
  {
   "cell_type": "markdown",
   "metadata": {},
   "source": [
    "# Test set error"
   ]
  },
  {
   "cell_type": "code",
   "execution_count": null,
   "metadata": {},
   "outputs": [],
   "source": [
    "y_predict=Model.predict(X_test)\n",
    "print(accuracy_score(y_predict,y_test))"
   ]
  }
 ],
 "metadata": {
  "kernelspec": {
   "display_name": "Python 3",
   "language": "python",
   "name": "python3"
  }
 },
 "nbformat": 4,
 "nbformat_minor": 4
}
